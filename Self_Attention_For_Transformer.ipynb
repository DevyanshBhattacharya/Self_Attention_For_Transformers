{
  "nbformat": 4,
  "nbformat_minor": 0,
  "metadata": {
    "colab": {
      "provenance": [],
      "authorship_tag": "ABX9TyN2lGIUA0OhJam5Wa2taJHV",
      "include_colab_link": true
    },
    "kernelspec": {
      "name": "python3",
      "display_name": "Python 3"
    },
    "language_info": {
      "name": "python"
    }
  },
  "cells": [
    {
      "cell_type": "markdown",
      "metadata": {
        "id": "view-in-github",
        "colab_type": "text"
      },
      "source": [
        "<a href=\"https://colab.research.google.com/github/DevyanshBhattacharya/Self_Attention_for_transformer/blob/main/Self_Attention_For_Transformer.ipynb\" target=\"_parent\"><img src=\"https://colab.research.google.com/assets/colab-badge.svg\" alt=\"Open In Colab\"/></a>"
      ]
    },
    {
      "cell_type": "markdown",
      "source": [
        "Implementation of Self Attention for Transformer\n"
      ],
      "metadata": {
        "id": "Y-tGfAk1lh7b"
      }
    },
    {
      "cell_type": "code",
      "execution_count": 1,
      "metadata": {
        "id": "IKw7OFLHi6Xw"
      },
      "outputs": [],
      "source": [
        "import math\n",
        "import numpy as np"
      ]
    },
    {
      "cell_type": "code",
      "source": [
        "L,d_k,d_v=4,8,8"
      ],
      "metadata": {
        "id": "tsValvHtlzcT"
      },
      "execution_count": 2,
      "outputs": []
    },
    {
      "cell_type": "code",
      "source": [
        "q=np.random.randn(L,d_k)\n",
        "k=np.random.randn(L,d_k)\n",
        "v=np.random.randn(L,d_v)\n"
      ],
      "metadata": {
        "id": "U2XtSujylzp-"
      },
      "execution_count": 3,
      "outputs": []
    },
    {
      "cell_type": "code",
      "source": [
        "dat=np.matmul(q,k.T)"
      ],
      "metadata": {
        "id": "dFW6P8opoaKo"
      },
      "execution_count": 4,
      "outputs": []
    },
    {
      "cell_type": "code",
      "source": [
        "print(dat)"
      ],
      "metadata": {
        "colab": {
          "base_uri": "https://localhost:8080/"
        },
        "id": "awEn3mAwogOw",
        "outputId": "faa2de4c-9d3e-4c0f-a3a3-16b8c0f6532a"
      },
      "execution_count": 5,
      "outputs": [
        {
          "output_type": "stream",
          "name": "stdout",
          "text": [
            "[[-0.55068466 -0.30532631  2.22327018  0.15348076]\n",
            " [-0.34141603  0.58365185 -0.60743513  2.75668439]\n",
            " [ 4.55196523  0.40655709  0.41729617  0.37503636]\n",
            " [-1.36929812 -3.46002949 -1.5613903  -2.24188381]]\n"
          ]
        }
      ]
    },
    {
      "cell_type": "code",
      "source": [
        "#Reducing the varience\n",
        "scale=np.matmul(q,k.T)/math.sqrt(d_k)"
      ],
      "metadata": {
        "id": "9ahwBQMfols8"
      },
      "execution_count": 6,
      "outputs": []
    },
    {
      "cell_type": "code",
      "source": [
        "#Masking the unrequired Data\n",
        "mask=np.tril(np.ones((L,L)))\n",
        "mask[mask==0]= -np.infty\n",
        "mask[mask==1]=0"
      ],
      "metadata": {
        "id": "5NbZeONso797"
      },
      "execution_count": 7,
      "outputs": []
    },
    {
      "cell_type": "code",
      "source": [
        "print(scale+mask)"
      ],
      "metadata": {
        "colab": {
          "base_uri": "https://localhost:8080/"
        },
        "id": "tXj76NaHpdEp",
        "outputId": "8dac8413-1408-49b6-f30d-c1af8b3a3274"
      },
      "execution_count": 8,
      "outputs": [
        {
          "output_type": "stream",
          "name": "stdout",
          "text": [
            "[[-0.19469643        -inf        -inf        -inf]\n",
            " [-0.12070879  0.20635209        -inf        -inf]\n",
            " [ 1.60936274  0.14373964  0.14753648        -inf]\n",
            " [-0.48411999 -1.22330516 -0.55203484 -0.79262562]]\n"
          ]
        }
      ]
    },
    {
      "cell_type": "markdown",
      "source": [],
      "metadata": {
        "id": "rXx0x7w6ouL9"
      }
    },
    {
      "cell_type": "code",
      "source": [
        "#Applying softmax ( Converts a vector to a probability Distribution)\n",
        "def softmax(x):\n",
        "  return np.exp(x).T/np.sum(np.exp(x),axis=1).T\n"
      ],
      "metadata": {
        "id": "Qj_0I_vPplqj"
      },
      "execution_count": 9,
      "outputs": []
    },
    {
      "cell_type": "code",
      "source": [
        "attention=softmax(scale+mask)"
      ],
      "metadata": {
        "id": "_C8IYL6iv5Pa"
      },
      "execution_count": 10,
      "outputs": []
    },
    {
      "cell_type": "code",
      "source": [
        "print(attention)"
      ],
      "metadata": {
        "colab": {
          "base_uri": "https://localhost:8080/"
        },
        "id": "ka3Hveghv-PF",
        "outputId": "4310436a-853b-4f7b-c6e4-5926cb889909"
      },
      "execution_count": 11,
      "outputs": [
        {
          "output_type": "stream",
          "name": "stdout",
          "text": [
            "[[1.         0.41895593 0.68364542 0.31782489]\n",
            " [0.         0.58104407 0.15787701 0.15176229]\n",
            " [0.         0.         0.15847758 0.29695652]\n",
            " [0.         0.         0.         0.23345631]]\n"
          ]
        }
      ]
    },
    {
      "cell_type": "code",
      "source": [
        "final=np.matmul(attention,v)\n",
        "print(final)"
      ],
      "metadata": {
        "id": "bMj_VJDJwVzL",
        "outputId": "b549ed98-eb0b-4b34-f05a-6d4f71796b70",
        "colab": {
          "base_uri": "https://localhost:8080/"
        }
      },
      "execution_count": 12,
      "outputs": [
        {
          "output_type": "stream",
          "name": "stdout",
          "text": [
            "[[-0.29594994 -0.1865571   0.58733192 -1.21841616 -1.14723966  0.96137414\n",
            "   1.41526331 -1.85001196]\n",
            " [ 0.41981393 -0.32840733  0.27880021 -0.45518128 -0.34227197  0.36229035\n",
            "   0.30470302 -1.42937328]\n",
            " [ 0.0318883  -0.18176105  0.1090823  -0.38199891 -0.21641224 -0.20047033\n",
            "  -0.25273314  0.20824458]\n",
            " [ 0.01236915 -0.21676391  0.06747611 -0.20794148 -0.19911519 -0.13583799\n",
            "  -0.16122204  0.32762608]]\n"
          ]
        }
      ]
    }
  ]
}